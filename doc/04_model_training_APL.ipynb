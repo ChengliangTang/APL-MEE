{
 "cells": [
  {
   "cell_type": "code",
   "execution_count": null,
   "metadata": {
    "id": "UHf-NB9f_2ST"
   },
   "outputs": [],
   "source": [
    "## This script is for model training using APL framework and ResNet-50 features"
   ]
  },
  {
   "cell_type": "code",
   "execution_count": null,
   "metadata": {
    "colab": {
     "base_uri": "https://localhost:8080/"
    },
    "executionInfo": {
     "elapsed": 3211,
     "status": "ok",
     "timestamp": 1606712772858,
     "user": {
      "displayName": "Chengliang Tang",
      "photoUrl": "https://lh3.googleusercontent.com/a-/AOh14GhLXMkV3uFW310fBCmagExEPE61Ci4mdwxisBce=s64",
      "userId": "12345148452308252588"
     },
     "user_tz": 300
    },
    "id": "pQT8EyCn_2Sc",
    "outputId": "f2e6aa0d-0768-42f9-b3a3-e3c76d73ec76"
   },
   "outputs": [],
   "source": [
    "# import packages\n",
    "import os, cv2\n",
    "import pickle\n",
    "import numpy as np\n",
    "import pandas as pd\n",
    "import matplotlib.pyplot as plt\n",
    "from datetime import datetime\n",
    "import keras\n",
    "from keras.applications import resnet50\n",
    "from keras.models import Model, Sequential\n",
    "from keras.applications.resnet50 import preprocess_input\n",
    "from keras.utils import np_utils\n",
    "from tensorflow.keras.layers import Input, UpSampling2D, Flatten, BatchNormalization, Dense, Dropout, GlobalAveragePooling2D\n",
    "from tensorflow.python.client import device_lib\n",
    "## check GPU\n",
    "print(device_lib.list_local_devices())"
   ]
  },
  {
   "cell_type": "code",
   "execution_count": null,
   "metadata": {
    "id": "cairKVYe_2Sg"
   },
   "outputs": [],
   "source": [
    "# load data (first part)\n",
    "## load shadow-free images\n",
    "path_wd = '../' ## set working directory\n",
    "img = cv2.imread(path_wd + 'output/images/shadow_free.jpg')\n",
    "img = cv2.cvtColor(img, cv2.COLOR_BGR2RGB) ## transform color channel"
   ]
  },
  {
   "cell_type": "code",
   "execution_count": null,
   "metadata": {
    "id": "EpkQOUjY_2Si"
   },
   "outputs": [],
   "source": [
    "# choose parameters\n",
    "THRESH = 20 ## diameter threshold\n",
    "n_c = 25 ## number of clusters"
   ]
  },
  {
   "cell_type": "code",
   "execution_count": null,
   "metadata": {
    "id": "PipWY2Nb_2Sk"
   },
   "outputs": [],
   "source": [
    "# load data (second part)\n",
    "## load clustering results\n",
    "labels = pd.read_csv(path_wd + 'output/KMeans/labels_' + str(n_c) + '.csv', index_col=0).to_numpy().flatten()\n",
    "## load relevance\n",
    "rele_PREMON = pd.read_csv(path_wd + 'output/relevance/relevance_PREMON_' + str(THRESH) + '_' + str(n_c) + '.csv', index_col=0).to_numpy().flatten()\n",
    "rele_CECSCH = pd.read_csv(path_wd + 'output/relevance/relevance_CECSCH_' + str(THRESH) + '_' + str(n_c) + '.csv', index_col=0).to_numpy().flatten()\n",
    "rele_MANBID = pd.read_csv(path_wd + 'output/relevance/relevance_MANBID_' + str(THRESH) + '_' + str(n_c) + '.csv', index_col=0).to_numpy().flatten()"
   ]
  },
  {
   "cell_type": "code",
   "execution_count": null,
   "metadata": {
    "colab": {
     "base_uri": "https://localhost:8080/"
    },
    "executionInfo": {
     "elapsed": 12021,
     "status": "ok",
     "timestamp": 1606712781698,
     "user": {
      "displayName": "Chengliang Tang",
      "photoUrl": "https://lh3.googleusercontent.com/a-/AOh14GhLXMkV3uFW310fBCmagExEPE61Ci4mdwxisBce=s64",
      "userId": "12345148452308252588"
     },
     "user_tz": 300
    },
    "id": "h67Lj_N4A7lM",
    "outputId": "511ddd96-3fa0-4bfc-fda7-ab0473aac3e6"
   },
   "outputs": [],
   "source": [
    "# create training set\n",
    "time_start = datetime.now()\n",
    "print('Start:', time_start)\n",
    "## create training patches\n",
    "n_img = len(labels)\n",
    "## create image arrays\n",
    "x_dat = np.zeros((n_img, 100, 100, 3), dtype=np.uint8)\n",
    "y_dat = np.zeros((n_img, 3))\n",
    "## loop over the patches\n",
    "for i in range(n_img):\n",
    "    rr = i // 96\n",
    "    cc = i % 96\n",
    "    lab_cluster = labels[i]\n",
    "    x_dat[i] = img[(rr*100):(rr*100+100), (cc*100):(cc*100+100)]\n",
    "    y_dat[i] = np.array([rele_PREMON[lab_cluster], rele_CECSCH[lab_cluster], rele_MANBID[lab_cluster]])\n",
    "## preprocess the input images\n",
    "x_dat = preprocess_input(x_dat)\n",
    "## label rescale (This step is optional)\n",
    "## rescale of feature labels, such as the cluster with largest palm relevance has label as 1\n",
    "for i in range(3):\n",
    "    y_dat[:, i] = y_dat[:, i] * (1 / np.max(y_dat[:, i]))\n",
    "print('Finished:', datetime.now()-time_start)"
   ]
  },
  {
   "cell_type": "code",
   "execution_count": null,
   "metadata": {
    "id": "oROlICJF_2St"
   },
   "outputs": [],
   "source": [
    "# build the model\n",
    "## load the ResNet model\n",
    "resnet_model = resnet50.ResNet50(weights='imagenet', include_top=False, input_shape=(100, 100, 3))\n",
    "## change the training settings\n",
    "#for layer in resnet_model.layers:\n",
    "#    if isinstance(layer, BatchNormalization):\n",
    "#        layer.trainable = True\n",
    "#    else:\n",
    "#        layer.trainable = False\n",
    "## build the model\n",
    "model = Sequential()\n",
    "model.add(resnet_model)\n",
    "model.add(GlobalAveragePooling2D())\n",
    "model.add(Dense(3, activation='sigmoid'))\n",
    "## compile the model\n",
    "opt = keras.optimizers.Adam(learning_rate=1e-4)\n",
    "model.compile(loss='mean_squared_error',optimizer=opt,metrics=['mean_absolute_error'])"
   ]
  },
  {
   "cell_type": "code",
   "execution_count": null,
   "metadata": {
    "colab": {
     "base_uri": "https://localhost:8080/"
    },
    "executionInfo": {
     "elapsed": 14720,
     "status": "ok",
     "timestamp": 1606712784410,
     "user": {
      "displayName": "Chengliang Tang",
      "photoUrl": "https://lh3.googleusercontent.com/a-/AOh14GhLXMkV3uFW310fBCmagExEPE61Ci4mdwxisBce=s64",
      "userId": "12345148452308252588"
     },
     "user_tz": 300
    },
    "id": "Vsp1ay6m_2Sw",
    "outputId": "4500e5bc-b1f1-444b-f827-37a75aad6f2b"
   },
   "outputs": [],
   "source": [
    "# parameter selection\n",
    "## train-validation split\n",
    "np.random.seed(2020)\n",
    "n_img = x_dat.shape[0]\n",
    "loc_train = np.random.choice(n_img, int(n_img * 0.8), replace=False)\n",
    "loc_val = np.setdiff1d(np.arange(n_img), loc_train)\n",
    "## start model training\n",
    "time_start = datetime.now()\n",
    "print('Start training:', time_start)\n",
    "#model.fit(x_dat[loc_train], y_dat[loc_train], batch_size=64, epochs=200, validation_data=(x_dat[loc_val], y_dat[loc_val]))\n",
    "print('Time for model training:', datetime.now()-time_start)"
   ]
  },
  {
   "cell_type": "code",
   "execution_count": null,
   "metadata": {
    "colab": {
     "base_uri": "https://localhost:8080/"
    },
    "executionInfo": {
     "elapsed": 825365,
     "status": "ok",
     "timestamp": 1606713595062,
     "user": {
      "displayName": "Chengliang Tang",
      "photoUrl": "https://lh3.googleusercontent.com/a-/AOh14GhLXMkV3uFW310fBCmagExEPE61Ci4mdwxisBce=s64",
      "userId": "12345148452308252588"
     },
     "user_tz": 300
    },
    "id": "CmbrYnDhK4-X",
    "outputId": "aae1d9a9-9887-40fa-ccbe-cfa260c8ded7"
   },
   "outputs": [],
   "source": [
    "# retrain the model with selected epochs\n",
    "## build the model\n",
    "model = Sequential()\n",
    "model.add(resnet_model)\n",
    "model.add(GlobalAveragePooling2D())\n",
    "model.add(Dense(3, activation='sigmoid'))\n",
    "## compile the model\n",
    "opt = keras.optimizers.Adam(learning_rate=1e-3)\n",
    "model.compile(loss='mean_squared_error',optimizer=opt,metrics=['mean_absolute_error'])\n",
    "## start model training\n",
    "time_start = datetime.now()\n",
    "print('Start training:', time_start)\n",
    "model.fit(x_dat, y_dat, batch_size=64, epochs=50, validation_data=(x_dat[loc_val], y_dat[loc_val]))\n",
    "## save the model\n",
    "model.save(path_wd + 'output/models/APL_' + str(THRESH) + '_' + str(n_c))\n",
    "print('Time for model training:', datetime.now()-time_start)"
   ]
  },
  {
   "cell_type": "code",
   "execution_count": null,
   "metadata": {
    "id": "22qKH1nUK5Hs"
   },
   "outputs": [],
   "source": []
  },
  {
   "cell_type": "code",
   "execution_count": null,
   "metadata": {
    "id": "q3LmcIUWIwBe"
   },
   "outputs": [],
   "source": []
  }
 ],
 "metadata": {
  "accelerator": "GPU",
  "colab": {
   "name": "04_model_training_APL.ipynb",
   "provenance": []
  },
  "kernelspec": {
   "display_name": "Python 3",
   "language": "python",
   "name": "python3"
  },
  "language_info": {
   "codemirror_mode": {
    "name": "ipython",
    "version": 3
   },
   "file_extension": ".py",
   "mimetype": "text/x-python",
   "name": "python",
   "nbconvert_exporter": "python",
   "pygments_lexer": "ipython3",
   "version": "3.7.6"
  }
 },
 "nbformat": 4,
 "nbformat_minor": 1
}
