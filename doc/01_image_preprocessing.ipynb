{
 "cells": [
  {
   "cell_type": "code",
   "execution_count": null,
   "metadata": {},
   "outputs": [],
   "source": [
    "## This script preprocess the LFDP image using block-wise shadow removal"
   ]
  },
  {
   "cell_type": "code",
   "execution_count": null,
   "metadata": {},
   "outputs": [],
   "source": [
    "# import packages\n",
    "import os, cv2, sys\n",
    "import numpy as np\n",
    "import pandas as pd\n",
    "import matplotlib.pyplot as plt\n",
    "from datetime import datetime\n",
    "sys.path.append('../libs/')\n",
    "from apl import ColorCorrection "
   ]
  },
  {
   "cell_type": "code",
   "execution_count": null,
   "metadata": {},
   "outputs": [],
   "source": [
    "# load images\n",
    "## load benchmark image\n",
    "imgBench = cv2.imread('../data/images/benchmark.jpg')\n",
    "## load target image\n",
    "imgRaw = cv2.imread('../data/images/LFDP.jpg')"
   ]
  },
  {
   "cell_type": "code",
   "execution_count": null,
   "metadata": {},
   "outputs": [],
   "source": [
    "img_correct = np.zeros(imgRaw.shape, dtype=np.uint8)\n",
    "from datetime import datetime\n",
    "time_start = datetime.now()\n",
    "print('Start:', time_start)\n",
    "for i in range(25):\n",
    "    rr_1 = i * 600\n",
    "    rr_2 = rr_1 + 600\n",
    "    for j in range(16):\n",
    "        cc_1 = j * 600\n",
    "        cc_2 = cc_1 + 600\n",
    "        img = imgRaw[rr_1:rr_2, cc_1:cc_2]\n",
    "        img_correct[rr_1:rr_2, cc_1:cc_2] = ColorCorrection(imgBench, img)\n",
    "cv2.imwrite('../output/images/shadow_free.jpg', img_correct)\n",
    "print('Time:', datetime.now() - time_start)"
   ]
  },
  {
   "cell_type": "code",
   "execution_count": null,
   "metadata": {},
   "outputs": [],
   "source": []
  },
  {
   "cell_type": "code",
   "execution_count": null,
   "metadata": {},
   "outputs": [],
   "source": []
  }
 ],
 "metadata": {
  "kernelspec": {
   "display_name": "Python 3",
   "language": "python",
   "name": "python3"
  },
  "language_info": {
   "codemirror_mode": {
    "name": "ipython",
    "version": 3
   },
   "file_extension": ".py",
   "mimetype": "text/x-python",
   "name": "python",
   "nbconvert_exporter": "python",
   "pygments_lexer": "ipython3",
   "version": "3.7.6"
  }
 },
 "nbformat": 4,
 "nbformat_minor": 2
}
