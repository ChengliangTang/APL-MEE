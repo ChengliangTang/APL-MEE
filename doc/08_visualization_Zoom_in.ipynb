{
 "cells": [
  {
   "cell_type": "code",
   "execution_count": null,
   "metadata": {},
   "outputs": [],
   "source": [
    "## This script visualizes the zoomed-in prediction of the three species"
   ]
  },
  {
   "cell_type": "code",
   "execution_count": null,
   "metadata": {},
   "outputs": [],
   "source": [
    "# import packages\n",
    "import os, cv2\n",
    "import numpy as np\n",
    "import pandas as pd\n",
    "import matplotlib as mpl\n",
    "import matplotlib.cm as cm\n",
    "import matplotlib.pyplot as plt\n",
    "from scipy import ndimage"
   ]
  },
  {
   "cell_type": "code",
   "execution_count": null,
   "metadata": {},
   "outputs": [],
   "source": [
    "# evaluate the predictions\n",
    "## load predictions\n",
    "preds_array = []\n",
    "folder_path = '../output/npy/npy_20_25/'\n",
    "for file_name in os.listdir(folder_path):\n",
    "    if file_name.endswith('.npy') == False:\n",
    "        continue\n",
    "    preds = np.load(folder_path + file_name)\n",
    "    preds_array.append(preds)\n",
    "preds_array = np.array(preds_array)\n",
    "print('Shape of predictions:', preds_array.shape)\n",
    "## load images\n",
    "imgs_array = []\n",
    "folder_path = '../output/shadow_free/'\n",
    "for file_name in os.listdir(folder_path):\n",
    "    img = cv2.imread(folder_path + file_name)\n",
    "    imgs_array.append(img)\n",
    "imgs_array = np.array(imgs_array)\n",
    "print('Shape of images:', imgs_array.shape)"
   ]
  },
  {
   "cell_type": "code",
   "execution_count": null,
   "metadata": {},
   "outputs": [],
   "source": [
    "# visualization\n",
    "rr_1 = 90\n",
    "rr_2 = rr_1 + 50\n",
    "cc_1 = 90\n",
    "cc_2 = cc_1 + 50\n",
    "plt.imshow(imgs_array[0, (10*rr_1):(10*rr_2), (10*cc_1):(10*cc_2)])\n",
    "cv2.imwrite('../output/figs/raw_image_1.png', imgs_array[0, (10*rr_1):(10*rr_2), (10*cc_1):(10*cc_2)])"
   ]
  },
  {
   "cell_type": "code",
   "execution_count": null,
   "metadata": {},
   "outputs": [],
   "source": [
    "cmap=cm.binary\n",
    "norm = mpl.colors.Normalize(vmin=0.22, vmax=0.2200001)\n",
    "m = cm.ScalarMappable(norm=norm, cmap=cmap)\n",
    "k = np.ones((10, 10)) / 100\n",
    "dens_tgt = ndimage.convolve(preds_array[0, rr_1:rr_2, cc_1:cc_2, 0], k, mode='constant', cval=0.0)\n",
    "dens_vis = m.to_rgba(dens_tgt) * 255\n",
    "dens_vis = dens_vis.astype(np.uint8)\n",
    "plt.imshow(dens_vis)\n",
    "dens_vis = cv2.resize(cv2.cvtColor(dens_vis, cv2.COLOR_BGR2RGB), (500, 500), interpolation=cv2.INTER_NEAREST)\n",
    "cv2.imwrite('../output/figs/dens_PREMON.png', dens_vis)"
   ]
  },
  {
   "cell_type": "code",
   "execution_count": null,
   "metadata": {},
   "outputs": [],
   "source": [
    "# visualization\n",
    "rr_1 = 240\n",
    "rr_2 = rr_1 + 50\n",
    "cc_1 = 240\n",
    "cc_2 = cc_1 + 50\n",
    "plt.imshow(imgs_array[0, (10*rr_1):(10*rr_2), (10*cc_1):(10*cc_2)])\n",
    "cv2.imwrite('../output/figs/raw_image_2.png', imgs_array[0, (10*rr_1):(10*rr_2), (10*cc_1):(10*cc_2)])"
   ]
  },
  {
   "cell_type": "code",
   "execution_count": null,
   "metadata": {},
   "outputs": [],
   "source": [
    "cmap=cm.binary\n",
    "norm = mpl.colors.Normalize(vmin=0.33, vmax=0.3300001)\n",
    "m = cm.ScalarMappable(norm=norm, cmap=cmap)\n",
    "dens_tgt = ndimage.convolve(preds_array[0, rr_1:rr_2, cc_1:cc_2, 1], k, mode='constant', cval=0.0)\n",
    "dens_vis = m.to_rgba(dens_tgt) * 255\n",
    "dens_vis = dens_vis.astype(np.uint8)\n",
    "plt.imshow(dens_vis)\n",
    "dens_vis = cv2.resize(cv2.cvtColor(dens_vis, cv2.COLOR_BGR2RGB), (500, 500), interpolation=cv2.INTER_NEAREST)\n",
    "cv2.imwrite('../output/figs/dens_CECSCH.png', dens_vis)"
   ]
  },
  {
   "cell_type": "code",
   "execution_count": null,
   "metadata": {},
   "outputs": [],
   "source": [
    "# visualization\n",
    "rr_1 = 500\n",
    "rr_2 = rr_1 + 50\n",
    "cc_1 = 480\n",
    "cc_2 = cc_1 + 50\n",
    "plt.imshow(imgs_array[1, (10*rr_1):(10*rr_2), (10*cc_1):(10*cc_2)])\n",
    "cv2.imwrite('../output/figs/raw_image_3.png', imgs_array[1, (10*rr_1):(10*rr_2), (10*cc_1):(10*cc_2)])"
   ]
  },
  {
   "cell_type": "code",
   "execution_count": null,
   "metadata": {},
   "outputs": [],
   "source": [
    "cmap=cm.binary\n",
    "norm = mpl.colors.Normalize(vmin=0.44, vmax=0.440001)\n",
    "m = cm.ScalarMappable(norm=norm, cmap=cmap)\n",
    "dens_tgt = ndimage.convolve(preds_array[1, rr_1:rr_2, cc_1:cc_2, 2], k, mode='constant', cval=0.0)\n",
    "dens_vis = m.to_rgba(dens_tgt) * 255\n",
    "dens_vis = dens_vis.astype(np.uint8)\n",
    "plt.imshow(dens_vis)\n",
    "dens_vis = cv2.resize(cv2.cvtColor(dens_vis, cv2.COLOR_BGR2RGB), (500, 500), interpolation=cv2.INTER_NEAREST)\n",
    "cv2.imwrite('../output/figs/dens_MANBID.png', dens_vis)"
   ]
  }
 ],
 "metadata": {
  "kernelspec": {
   "display_name": "Python 3",
   "language": "python",
   "name": "python3"
  },
  "language_info": {
   "codemirror_mode": {
    "name": "ipython",
    "version": 3
   },
   "file_extension": ".py",
   "mimetype": "text/x-python",
   "name": "python",
   "nbconvert_exporter": "python",
   "pygments_lexer": "ipython3",
   "version": "3.8.3"
  }
 },
 "nbformat": 4,
 "nbformat_minor": 4
}
