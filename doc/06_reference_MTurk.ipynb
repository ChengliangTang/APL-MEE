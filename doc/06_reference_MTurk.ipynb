{
 "cells": [
  {
   "cell_type": "code",
   "execution_count": null,
   "metadata": {},
   "outputs": [],
   "source": [
    "## This script calculates the majority vote simply using all the submissions\n",
    "## Input: MTurk submission CSV\n",
    "## Output: pixel-wise human reference of the test images"
   ]
  },
  {
   "cell_type": "code",
   "execution_count": null,
   "metadata": {},
   "outputs": [],
   "source": [
    "# step 0. load packages\n",
    "import cv2, os\n",
    "import numpy as np\n",
    "import pandas as pd\n",
    "from matplotlib.path import Path\n",
    "import matplotlib.pyplot as plt\n",
    "from datetime import datetime"
   ]
  },
  {
   "cell_type": "code",
   "execution_count": null,
   "metadata": {},
   "outputs": [],
   "source": [
    "# step 1. load submission csv\n",
    "SPECIES = 'palm' ## 'palm' or 'cec'\n",
    "dat_sub_full = pd.read_csv('../data/MTurk/MTurk_' + SPECIES + '.csv')\n",
    "## filter out rejected submissions\n",
    "dat_sub = dat_sub_full[dat_sub_full['AssignmentStatus'] != 'Rejected']\n",
    "dat_sub.index = range(dat_sub.shape[0])"
   ]
  },
  {
   "cell_type": "code",
   "execution_count": null,
   "metadata": {},
   "outputs": [],
   "source": [
    "# step 2. function definition\n",
    "## function for transforming polygon to mask\n",
    "def poly2mask(nx, ny, poly_verts):\n",
    "    # Create vertex coordinates for each grid cell...\n",
    "    # (<0,0> is at the top left of the grid in this system)\n",
    "    x, y = np.meshgrid(np.arange(nx), np.arange(ny))\n",
    "    x, y = x.flatten(), y.flatten()\n",
    "    points = np.vstack((x,y)).T\n",
    "    path = Path(poly_verts)\n",
    "    grid = path.contains_points(points)\n",
    "    grid = grid.reshape((ny,nx))\n",
    "    return grid"
   ]
  },
  {
   "cell_type": "code",
   "execution_count": null,
   "metadata": {},
   "outputs": [],
   "source": [
    "# step 3. loop over the raw images\n",
    "main_folder = '../data/shadow_free/'\n",
    "img_list = os.listdir(main_folder)\n",
    "img_list.sort()\n",
    "for idx in range(len(img_list)):\n",
    "    ## load the image\n",
    "    time_start = datetime.now()\n",
    "    print(img_list[idx])\n",
    "    img = cv2.imread(main_folder + img_list[idx])\n",
    "    ## initialize dens array\n",
    "    dens_arr = np.zeros([10000, 10000]) - 1\n",
    "    ## loop over patches\n",
    "    for i in range(10):\n",
    "        for j in range(10):\n",
    "            idx_img = idx * 100 + i * 10 + j + 1\n",
    "            url_img = 'https://raw.githubusercontent.com/ChengliangTang/rainforest_images/master/patches_free/img_' \\\n",
    "            + '{0:04}'.format(idx_img) + '.jpg'\n",
    "            loc = np.where(dat_sub['Input.img_url'] == url_img)[0]\n",
    "            num_patch = len(loc)\n",
    "            dens_mat = np.zeros([1000, 1000, num_patch])\n",
    "            idx_patch = 0\n",
    "            for id_sub in loc:\n",
    "                sub_mat = np.zeros([1000, 1000])\n",
    "                polyString = dat_sub['Answer.coordinates'][id_sub]\n",
    "                polyString = polyString.replace('[', '')\n",
    "                polyString = polyString.replace(']', '')\n",
    "                polyString = polyString.replace('\"x\":', '')\n",
    "                polyString = polyString.replace(',\"y\":', ';')\n",
    "                polyString = polyString.replace(',', '')\n",
    "                polyList = polyString.split('{-1;-1}')\n",
    "                polyList.pop()\n",
    "                for polyGon in polyList:\n",
    "                    elementList = polyGon.split('}{')\n",
    "                    ## transform element list into integers\n",
    "                    for k in range(len(elementList)):\n",
    "                        element = elementList[k].replace('{', '')\n",
    "                        element = element.replace('}', '')\n",
    "                        (x, y) = element.split(';')\n",
    "                        x = int(float(x)) - 1\n",
    "                        y = int(float(y)) - 1\n",
    "                        elementList[k] = (max([0, x]), max([0, y]))\n",
    "                    polyMask = poly2mask(1000, 1000, elementList)\n",
    "                    sub_mat[polyMask == True] = 1\n",
    "                dens_mat[:, :, idx_patch] = sub_mat\n",
    "                idx_patch += 1\n",
    "            dens_mat = np.sum(dens_mat, axis=2)\n",
    "            dens_mat[dens_mat < 5] = 0\n",
    "            dens_mat[dens_mat > 0] = 1\n",
    "            r1 = i * 1000\n",
    "            r2 = r1 + 1000\n",
    "            c1 = j * 1000\n",
    "            c2 = c1 + 1000\n",
    "            dens_arr[r1:r2, c1:c2] = dens_mat\n",
    "    ## create visualizations\n",
    "    img_gray = cv2.cvtColor(img, cv2.COLOR_BGR2GRAY)\n",
    "    img_new = np.zeros_like(img)\n",
    "    img_new[:,:,0] = img_gray\n",
    "    img_new[:,:,1] = img_gray\n",
    "    img_new[:,:,2] = img_gray\n",
    "    img_new[dens_arr == 1] = img[dens_arr == 1]\n",
    "    img_new[dens_arr == -1] = 0\n",
    "    cv2.imwrite('../output/mref/' + SPECIES + '/' + img_list[idx], img_new)\n",
    "    pd.DataFrame(dens_arr).to_csv('../output/mref/' + SPECIES + '/' + img_list[idx][:(-4)] + '.csv')\n",
    "    ## print process time\n",
    "    print(datetime.now() - time_start)\n",
    "print('Task finished!')"
   ]
  },
  {
   "cell_type": "code",
   "execution_count": null,
   "metadata": {},
   "outputs": [],
   "source": []
  },
  {
   "cell_type": "code",
   "execution_count": null,
   "metadata": {},
   "outputs": [],
   "source": []
  }
 ],
 "metadata": {
  "kernelspec": {
   "display_name": "Python 3",
   "language": "python",
   "name": "python3"
  },
  "language_info": {
   "codemirror_mode": {
    "name": "ipython",
    "version": 3
   },
   "file_extension": ".py",
   "mimetype": "text/x-python",
   "name": "python",
   "nbconvert_exporter": "python",
   "pygments_lexer": "ipython3",
   "version": "3.7.6"
  }
 },
 "nbformat": 4,
 "nbformat_minor": 2
}
