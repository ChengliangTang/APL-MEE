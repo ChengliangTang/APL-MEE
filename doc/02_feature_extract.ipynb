{
 "cells": [
  {
   "cell_type": "code",
   "execution_count": null,
   "metadata": {},
   "outputs": [],
   "source": [
    "## This script extracts deep features from LFDP patches"
   ]
  },
  {
   "cell_type": "code",
   "execution_count": null,
   "metadata": {},
   "outputs": [],
   "source": [
    "# import packages\n",
    "import os, cv2\n",
    "import numpy as np\n",
    "import pandas as pd\n",
    "import matplotlib.pyplot as plt\n",
    "from datetime import datetime\n",
    "## packages for deep learning\n",
    "import tensorflow as tf\n",
    "from keras.applications import resnet50\n",
    "from keras.preprocessing import image\n",
    "from keras.applications.resnet50 import preprocess_input\n",
    "from keras.models import Model\n",
    "from tensorflow.python.client import device_lib\n",
    "## check GPU\n",
    "print(device_lib.list_local_devices())"
   ]
  },
  {
   "cell_type": "code",
   "execution_count": null,
   "metadata": {},
   "outputs": [],
   "source": [
    "# load shadow-free image\n",
    "img = cv2.imread('../output/images/shadow_free.jpg')\n",
    "## transform color channel\n",
    "img = cv2.cvtColor(img, cv2.COLOR_BGR2RGB)\n",
    "# load the pretrained cnn model ResNet-50\n",
    "base_model = resnet50.ResNet50(weights='imagenet')\n",
    "resnet_model = Model(inputs=base_model.input,\n",
    "                    outputs=base_model.get_layer('avg_pool').output)\n",
    "\n",
    "# extract features, and save in the feat_cnn.csv file\n",
    "## set resolution and window size\n",
    "rs = 100 ## resolution \n",
    "size_wind = 100 # window size \n",
    "num_row = int(img.shape[0]/rs)\n",
    "num_col = int(img.shape[1]/rs)\n",
    "## extract features\n",
    "csvPath = '../output/features/feat_cnn.csv'\n",
    "f = open(csvPath, 'w')\n",
    "x_img = np.ones((num_col, 224, 224, 3))\n",
    "print('...Start Feature Extraction...')\n",
    "time_start = datetime.now()\n",
    "for i in range(num_row):\n",
    "    if (i+1) % 20 == 0:\n",
    "        print('Finished:', \"{:.1%}\".format((i+1) / num_row), end=\"\\r\")\n",
    "    for j in range(num_col):\n",
    "        r_1 = int(np.max([0, i*rs + rs/2 - size_wind/2]))\n",
    "        r_2 = int(np.min([img.shape[0], i*rs + rs/2 +  size_wind/2]))\n",
    "        c_1 = int(np.max([0, j*rs + rs/2 - size_wind/2]))\n",
    "        c_2 = int(np.min([img.shape[1], j*rs + rs/2 + size_wind/2]))\n",
    "        img_patch = img[r_1:r_2, c_1:c_2]\n",
    "        img_resize = cv2.resize(img_patch, (224, 224))\n",
    "        x_img[j] = img_resize\n",
    "    x_img = preprocess_input(x_img)\n",
    "    preds = resnet_model.predict(x_img)\n",
    "    # save features line by line\n",
    "    for j in range(num_col):\n",
    "        str1 = list(preds[j])\n",
    "        line = ', '.join(list(map(str, str1))) + '\\n'\n",
    "        f.write(line)        \n",
    "f.close()\n",
    "print('Time for feature extraction:', datetime.now()-time_start)"
   ]
  },
  {
   "cell_type": "code",
   "execution_count": null,
   "metadata": {},
   "outputs": [],
   "source": []
  }
 ],
 "metadata": {
  "kernelspec": {
   "display_name": "Python 3",
   "language": "python",
   "name": "python3"
  },
  "language_info": {
   "codemirror_mode": {
    "name": "ipython",
    "version": 3
   },
   "file_extension": ".py",
   "mimetype": "text/x-python",
   "name": "python",
   "nbconvert_exporter": "python",
   "pygments_lexer": "ipython3",
   "version": "3.7.6"
  }
 },
 "nbformat": 4,
 "nbformat_minor": 4
}
