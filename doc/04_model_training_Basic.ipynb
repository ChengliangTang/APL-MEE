{
 "cells": [
  {
   "cell_type": "code",
   "execution_count": null,
   "metadata": {
    "executionInfo": {
     "elapsed": 874,
     "status": "ok",
     "timestamp": 1608416021208,
     "user": {
      "displayName": "Chengliang Tang",
      "photoUrl": "https://lh3.googleusercontent.com/a-/AOh14GhLXMkV3uFW310fBCmagExEPE61Ci4mdwxisBce=s64",
      "userId": "12345148452308252588"
     },
     "user_tz": 300
    },
    "id": "ZEVMZY5UYR0v"
   },
   "outputs": [],
   "source": [
    "## This script is for model training using the basic framework and ResNet-50 features"
   ]
  },
  {
   "cell_type": "code",
   "execution_count": null,
   "metadata": {
    "colab": {
     "base_uri": "https://localhost:8080/"
    },
    "executionInfo": {
     "elapsed": 6127,
     "status": "ok",
     "timestamp": 1608416063657,
     "user": {
      "displayName": "Chengliang Tang",
      "photoUrl": "https://lh3.googleusercontent.com/a-/AOh14GhLXMkV3uFW310fBCmagExEPE61Ci4mdwxisBce=s64",
      "userId": "12345148452308252588"
     },
     "user_tz": 300
    },
    "id": "eeBSn-mfYYVM",
    "outputId": "1dbefb4f-5b1e-4d3e-84a1-3ad953456e74"
   },
   "outputs": [],
   "source": [
    "# import packages\n",
    "import os, cv2\n",
    "import pickle\n",
    "import numpy as np\n",
    "import pandas as pd\n",
    "import matplotlib.pyplot as plt\n",
    "from datetime import datetime\n",
    "import keras\n",
    "from keras.applications import resnet50\n",
    "from keras.models import Model, Sequential\n",
    "from keras.applications.resnet50 import preprocess_input\n",
    "from keras.utils import np_utils\n",
    "from tensorflow.keras.layers import Input, UpSampling2D, Flatten, BatchNormalization, Dense, Dropout, GlobalAveragePooling2D\n",
    "from tensorflow.python.client import device_lib\n",
    "## check GPU\n",
    "print(device_lib.list_local_devices())"
   ]
  },
  {
   "cell_type": "code",
   "execution_count": null,
   "metadata": {
    "executionInfo": {
     "elapsed": 11788,
     "status": "ok",
     "timestamp": 1608416677210,
     "user": {
      "displayName": "Chengliang Tang",
      "photoUrl": "https://lh3.googleusercontent.com/a-/AOh14GhLXMkV3uFW310fBCmagExEPE61Ci4mdwxisBce=s64",
      "userId": "12345148452308252588"
     },
     "user_tz": 300
    },
    "id": "dWK1idgLYZk7"
   },
   "outputs": [],
   "source": [
    "# load data (first part)\n",
    "## load shadow-free images\n",
    "path_wd = '../' ## set working directory\n",
    "img = cv2.imread(path_wd + 'output/images/shadow_free.jpg')\n",
    "img = cv2.cvtColor(img, cv2.COLOR_BGR2RGB) ## transform color channel to RGB\n",
    "## load LFDP ground-based labels\n",
    "df = pd.read_csv(path_wd + 'data/labels/LFDP_labels.csv', index_col=0)"
   ]
  },
  {
   "cell_type": "code",
   "execution_count": null,
   "metadata": {
    "executionInfo": {
     "elapsed": 784,
     "status": "ok",
     "timestamp": 1608416732604,
     "user": {
      "displayName": "Chengliang Tang",
      "photoUrl": "https://lh3.googleusercontent.com/a-/AOh14GhLXMkV3uFW310fBCmagExEPE61Ci4mdwxisBce=s64",
      "userId": "12345148452308252588"
     },
     "user_tz": 300
    },
    "id": "Gdyiu0SCYZh7"
   },
   "outputs": [],
   "source": [
    "# choose parameters to filter the ground labels\n",
    "THRESH_DIAM = 20 ## diameter threshold\n",
    "df = df[df.ALIVE == 'A']\n",
    "df = df[df.DIAM > THRESH_DIAM]\n",
    "df = df[df.pix_1 < 9600] ## column range\n",
    "df = df[df.pix_2 < 15000] ## row range\n",
    "df.index = range(df.shape[0])"
   ]
  },
  {
   "cell_type": "code",
   "execution_count": null,
   "metadata": {
    "colab": {
     "base_uri": "https://localhost:8080/"
    },
    "executionInfo": {
     "elapsed": 726,
     "status": "ok",
     "timestamp": 1607706798509,
     "user": {
      "displayName": "Chengliang Tang",
      "photoUrl": "https://lh3.googleusercontent.com/a-/AOh14GhLXMkV3uFW310fBCmagExEPE61Ci4mdwxisBce=s64",
      "userId": "12345148452308252588"
     },
     "user_tz": 300
    },
    "id": "-BCCNrWbteCl",
    "outputId": "449f81fc-b704-49eb-aa78-f15456a0617f"
   },
   "outputs": [],
   "source": [
    "# create training set\n",
    "## resolution \n",
    "rs = 100\n",
    "n_row = img.shape[0] // rs\n",
    "n_col = img.shape[1] // rs\n",
    "print(n_row, n_col)\n",
    "## species list\n",
    "sp_dict = {'PREMON': ['PREMON', 'ROYBOR'], 'CECSCH': ['CECSCH'], 'MANBID': ['MANBID']}\n",
    "## create data list\n",
    "x_mat = []\n",
    "y_mat = []\n",
    "## dictionary for location map\n",
    "loc_dict = {}\n",
    "## loop over the LFDP labels\n",
    "for i in range(df.shape[0]):\n",
    "    loc_1 = df['pix_2'][i] // rs\n",
    "    loc_2 = df['pix_1'][i] // rs\n",
    "    loc_id = loc_1 * n_col + loc_2\n",
    "    if loc_id in loc_dict.keys():\n",
    "        idd = loc_dict[loc_id]\n",
    "    else:\n",
    "        idd = len(y_mat)\n",
    "        rr_1 = loc_1 * rs\n",
    "        rr_2 = rr_1 + rs\n",
    "        cc_1 = loc_2 * rs\n",
    "        cc_2 = cc_1 + rs\n",
    "        x_mat.append(img[rr_1:rr_2, cc_1:cc_2])\n",
    "        y_mat.append([0] * 3)\n",
    "        loc_dict[loc_id] = idd\n",
    "    ## assign the labels\n",
    "    if df['SPECIES'][i] in ['PREMON', 'ROYBOR']:\n",
    "        y_mat[idd][0] = 1\n",
    "    elif df['SPECIES'][i] in ['CECSCH']:\n",
    "        y_mat[idd][1] = 1\n",
    "    elif df['SPECIES'][i] in ['MANBID']:\n",
    "        y_mat[idd][2] = 1\n",
    "## transform the list into numpy array\n",
    "x_mat = np.array(x_mat)\n",
    "y_mat = np.array(y_mat)"
   ]
  },
  {
   "cell_type": "code",
   "execution_count": null,
   "metadata": {
    "colab": {
     "base_uri": "https://localhost:8080/"
    },
    "executionInfo": {
     "elapsed": 694,
     "status": "ok",
     "timestamp": 1607706801016,
     "user": {
      "displayName": "Chengliang Tang",
      "photoUrl": "https://lh3.googleusercontent.com/a-/AOh14GhLXMkV3uFW310fBCmagExEPE61Ci4mdwxisBce=s64",
      "userId": "12345148452308252588"
     },
     "user_tz": 300
    },
    "id": "I-KdxakBfuRm",
    "outputId": "a51f376b-a9f1-4da4-fada-18133c7ed9ac"
   },
   "outputs": [],
   "source": [
    "# optional: rebalance the data set\n",
    "print('Number of palm patches:', np.sum(y_mat[:, 0]))\n",
    "print('Number of cecropia patches:', np.sum(y_mat[:, 1]))\n",
    "print('Number of total patches:', y_mat.shape[0])\n",
    "REBALANCE = True ## whether rebalance the patches\n",
    "if REBALANCE ==  True:\n",
    "    x_list = []\n",
    "    y_list = []\n",
    "    for i in range(y_mat.shape[0]):\n",
    "        if y_mat[i, 0] == 1:\n",
    "            for j in range(30):\n",
    "                x_list.append(x_mat[i])\n",
    "                y_list.append(y_mat[i])\n",
    "        elif y_mat[i, 1] == 1:\n",
    "            for j in range(7):\n",
    "                x_list.append(x_mat[i])\n",
    "                y_list.append(y_mat[i])\n",
    "        else:\n",
    "            x_list.append(x_mat[i])\n",
    "            y_list.append(y_mat[i])\n",
    "    x_dat = np.array(x_list)\n",
    "    y_dat = np.array(y_list)\n",
    "else:\n",
    "    x_dat = x_mat\n",
    "    y_dat = y_mat"
   ]
  },
  {
   "cell_type": "code",
   "execution_count": null,
   "metadata": {
    "colab": {
     "base_uri": "https://localhost:8080/"
    },
    "executionInfo": {
     "elapsed": 4027,
     "status": "ok",
     "timestamp": 1607706811721,
     "user": {
      "displayName": "Chengliang Tang",
      "photoUrl": "https://lh3.googleusercontent.com/a-/AOh14GhLXMkV3uFW310fBCmagExEPE61Ci4mdwxisBce=s64",
      "userId": "12345148452308252588"
     },
     "user_tz": 300
    },
    "id": "oQ0eC0tilzbB",
    "outputId": "12209b0e-a859-4df9-d433-8d132c1f6dde"
   },
   "outputs": [],
   "source": [
    "# build the model\n",
    "## load the ResNet model\n",
    "resnet_model = resnet50.ResNet50(weights='imagenet', include_top=False, input_shape=(100, 100, 3))\n",
    "## change the training settings\n",
    "#for layer in resnet_model.layers:\n",
    "#    if isinstance(layer, BatchNormalization):\n",
    "#        layer.trainable = True\n",
    "#    else:\n",
    "#        layer.trainable = False\n",
    "## build the model\n",
    "model = Sequential()\n",
    "model.add(resnet_model)\n",
    "model.add(GlobalAveragePooling2D())\n",
    "model.add(Dense(3, activation='sigmoid'))\n",
    "## compile the model\n",
    "opt = keras.optimizers.Adam(learning_rate=1e-3)\n",
    "model.compile(loss='binary_crossentropy', optimizer=opt, metrics=['accuracy'])"
   ]
  },
  {
   "cell_type": "code",
   "execution_count": null,
   "metadata": {
    "colab": {
     "base_uri": "https://localhost:8080/"
    },
    "executionInfo": {
     "elapsed": 364,
     "status": "ok",
     "timestamp": 1606599957909,
     "user": {
      "displayName": "Chengliang Tang",
      "photoUrl": "https://lh3.googleusercontent.com/a-/AOh14GhLXMkV3uFW310fBCmagExEPE61Ci4mdwxisBce=s64",
      "userId": "12345148452308252588"
     },
     "user_tz": 300
    },
    "id": "JLYj19owopto",
    "outputId": "0eaa283a-270a-45a4-a3ea-bad1534fc0a5"
   },
   "outputs": [],
   "source": [
    "# model selection\n",
    "## train-validation split\n",
    "np.random.seed(2020)\n",
    "n_img = x_dat.shape[0]\n",
    "loc_train = np.random.choice(n_img, int(n_img * 0.8), replace=False)\n",
    "loc_val = np.setdiff1d(np.arange(n_img), loc_train)\n",
    "## start model training\n",
    "time_start = datetime.now()\n",
    "print('Start training:', time_start)\n",
    "#model.fit(x_dat[loc_train], y_dat[loc_train], batch_size=128, epochs=100, validation_data=(x_dat[loc_val], y_dat[loc_val]))\n",
    "print('Time for model training:', datetime.now()-time_start)"
   ]
  },
  {
   "cell_type": "code",
   "execution_count": null,
   "metadata": {
    "colab": {
     "base_uri": "https://localhost:8080/"
    },
    "executionInfo": {
     "elapsed": 654081,
     "status": "ok",
     "timestamp": 1606600615882,
     "user": {
      "displayName": "Chengliang Tang",
      "photoUrl": "https://lh3.googleusercontent.com/a-/AOh14GhLXMkV3uFW310fBCmagExEPE61Ci4mdwxisBce=s64",
      "userId": "12345148452308252588"
     },
     "user_tz": 300
    },
    "id": "bctbjGXmYZaU",
    "outputId": "f9f93143-c31c-4072-c779-b5e8066f7f7c"
   },
   "outputs": [],
   "source": [
    "# retrain the model with selected parameters\n",
    "## build the model\n",
    "model = Sequential()\n",
    "model.add(resnet_model)\n",
    "model.add(GlobalAveragePooling2D())\n",
    "model.add(Dense(3, activation='sigmoid'))\n",
    "## compile the model\n",
    "opt = keras.optimizers.Adam(learning_rate=1e-3)\n",
    "model.compile(loss='binary_crossentropy', optimizer=opt, metrics=['accuracy'])\n",
    "## start model training\n",
    "time_start = datetime.now()\n",
    "print('Start training:', time_start)\n",
    "np.random.seed(2020)\n",
    "model.fit(x_dat, y_dat, batch_size=128, epochs=50, validation_data=(x_dat[loc_val], y_dat[loc_val]))\n",
    "## save the model\n",
    "model.save(path_wd + 'output/models/Basic_' + str(THRESH_DIAM))\n",
    "print('Time for model training:', datetime.now()-time_start)"
   ]
  },
  {
   "cell_type": "code",
   "execution_count": null,
   "metadata": {},
   "outputs": [],
   "source": []
  },
  {
   "cell_type": "code",
   "execution_count": null,
   "metadata": {},
   "outputs": [],
   "source": []
  },
  {
   "cell_type": "code",
   "execution_count": null,
   "metadata": {
    "id": "mbpZcm5RYZUw"
   },
   "outputs": [],
   "source": []
  }
 ],
 "metadata": {
  "accelerator": "GPU",
  "colab": {
   "collapsed_sections": [],
   "name": "04_model_training_Basic.ipynb",
   "provenance": []
  },
  "kernelspec": {
   "display_name": "Python 3",
   "language": "python",
   "name": "python3"
  },
  "language_info": {
   "codemirror_mode": {
    "name": "ipython",
    "version": 3
   },
   "file_extension": ".py",
   "mimetype": "text/x-python",
   "name": "python",
   "nbconvert_exporter": "python",
   "pygments_lexer": "ipython3",
   "version": "3.7.6"
  }
 },
 "nbformat": 4,
 "nbformat_minor": 1
}
