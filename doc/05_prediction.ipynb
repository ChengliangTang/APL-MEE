{
 "cells": [
  {
   "cell_type": "code",
   "execution_count": null,
   "metadata": {},
   "outputs": [],
   "source": [
    "## This notebook makes predictions over test images using trained predictor"
   ]
  },
  {
   "cell_type": "code",
   "execution_count": null,
   "metadata": {
    "colab": {
     "base_uri": "https://localhost:8080/"
    },
    "executionInfo": {
     "elapsed": 6337,
     "status": "ok",
     "timestamp": 1608500640810,
     "user": {
      "displayName": "Chengliang Tang",
      "photoUrl": "https://lh3.googleusercontent.com/a-/AOh14GhLXMkV3uFW310fBCmagExEPE61Ci4mdwxisBce=s64",
      "userId": "12345148452308252588"
     },
     "user_tz": 300
    },
    "id": "BQa-TikT6BrJ",
    "outputId": "142a6ea5-48e5-4f85-bc67-0c397b36603c"
   },
   "outputs": [],
   "source": [
    "# import packages\n",
    "import os, cv2\n",
    "import numpy as np\n",
    "import pandas as pd\n",
    "from datetime import datetime\n",
    "## packages for deep learning\n",
    "import tensorflow as tf\n",
    "from keras.applications.resnet50 import preprocess_input\n",
    "from keras.preprocessing import image\n",
    "from keras.models import Model\n",
    "from tensorflow.python.client import device_lib\n",
    "## check GPU\n",
    "print(device_lib.list_local_devices())"
   ]
  },
  {
   "cell_type": "code",
   "execution_count": null,
   "metadata": {
    "colab": {
     "base_uri": "https://localhost:8080/"
    },
    "executionInfo": {
     "elapsed": 21654,
     "status": "ok",
     "timestamp": 1608500722727,
     "user": {
      "displayName": "Chengliang Tang",
      "photoUrl": "https://lh3.googleusercontent.com/a-/AOh14GhLXMkV3uFW310fBCmagExEPE61Ci4mdwxisBce=s64",
      "userId": "12345148452308252588"
     },
     "user_tz": 300
    },
    "id": "qoKbfkezFR8b",
    "outputId": "fb40c743-3d4e-430f-a970-b527891756c1"
   },
   "outputs": [],
   "source": [
    "# load the pretrained model\n",
    "THRESH = 20\n",
    "n_c = 25\n",
    "path_wd = '../' ## set working directory\n",
    "if not os.path.isdir(path_wd + 'output/npy/npy_' + str(THRESH) + '_' + str(n_c)):\n",
    "    os.mkdir(path_wd + 'output/npy/npy_' + str(THRESH) + '_' + str(n_c))\n",
    "time_start = datetime.now()\n",
    "print('Start:', time_start)\n",
    "model_resnet = tf.keras.models.load_model(path_wd + 'output/models/APL_' + str(THRESH) + '_' + str(n_c))\n",
    "print('Finished:', datetime.now() - time_start)"
   ]
  },
  {
   "cell_type": "code",
   "execution_count": null,
   "metadata": {
    "colab": {
     "base_uri": "https://localhost:8080/",
     "height": 528
    },
    "executionInfo": {
     "elapsed": 6925,
     "status": "error",
     "timestamp": 1608502783110,
     "user": {
      "displayName": "Chengliang Tang",
      "photoUrl": "https://lh3.googleusercontent.com/a-/AOh14GhLXMkV3uFW310fBCmagExEPE61Ci4mdwxisBce=s64",
      "userId": "12345148452308252588"
     },
     "user_tz": 300
    },
    "id": "9hVLD2tOT1HZ",
    "outputId": "bd50997c-bdb6-4a27-9d38-4c8c8cc9246a"
   },
   "outputs": [],
   "source": [
    "# loop over the shadow_free folder\n",
    "folder_name = path_wd + 'data/test/'\n",
    "file_list = os.listdir(folder_name)\n",
    "rs = 10\n",
    "size_wind = 100\n",
    "num_col = int(10000/rs)\n",
    "for img_name in file_list:\n",
    "    print(img_name)\n",
    "    probs_mat = np.zeros((num_col, num_col, 3))\n",
    "    img_path = folder_name + img_name\n",
    "    img = cv2.imread(img_path)\n",
    "    img = cv2.cvtColor(img, cv2.COLOR_BGR2RGB) ## transform color channel\n",
    "    x_img = np.ones((num_col, 100, 100, 3), dtype=np.uint8)\n",
    "    ## start prediction\n",
    "    time_start = datetime.now()\n",
    "    ## use the pretrained model as convolution kernel\n",
    "    for i in range(num_col):\n",
    "        r_1 = int(np.max([0, i*rs + rs/2 - size_wind/2]))\n",
    "        r_2 = int(np.min([10000, i*rs + rs/2 +  size_wind/2]))\n",
    "        for j in range(num_col):\n",
    "            c_1 = int(np.max([0, j*rs + rs/2 - size_wind/2]))\n",
    "            c_2 = int(np.min([10000, j*rs + rs/2 + size_wind/2]))\n",
    "            img_patch = img[r_1:r_2, c_1:c_2]\n",
    "            if img_patch.shape != (100, 100, 3):\n",
    "                x_img[j] = cv2.resize(img_patch, (100, 100)) ## boundary and corner patches\n",
    "            else:\n",
    "                x_img[j] = img_patch\n",
    "        x_img = preprocess_input(x_img)\n",
    "        probs_mat[i] = model_resnet.predict(x_img)\n",
    "    npy_path = path_wd + 'output/npy/npy_' + str(THRESH) + '_' + str(n_c) + '/' + img_name[:(-4)] + '.npy'\n",
    "    np.save(npy_path, probs_mat)\n",
    "    print('Time:', datetime.now() - time_start)\n",
    "print('All finished!')"
   ]
  },
  {
   "cell_type": "code",
   "execution_count": null,
   "metadata": {
    "id": "AU-93T-d6Nh5"
   },
   "outputs": [],
   "source": []
  },
  {
   "cell_type": "code",
   "execution_count": null,
   "metadata": {
    "id": "on0K2-wv6MwY"
   },
   "outputs": [],
   "source": []
  }
 ],
 "metadata": {
  "accelerator": "GPU",
  "colab": {
   "collapsed_sections": [],
   "machine_shape": "hm",
   "name": "05_prediction_final.ipynb",
   "provenance": []
  },
  "kernelspec": {
   "display_name": "Python 3",
   "language": "python",
   "name": "python3"
  },
  "language_info": {
   "codemirror_mode": {
    "name": "ipython",
    "version": 3
   },
   "file_extension": ".py",
   "mimetype": "text/x-python",
   "name": "python",
   "nbconvert_exporter": "python",
   "pygments_lexer": "ipython3",
   "version": "3.8.3"
  }
 },
 "nbformat": 4,
 "nbformat_minor": 1
}
