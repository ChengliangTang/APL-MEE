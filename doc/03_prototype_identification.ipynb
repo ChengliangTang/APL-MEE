{
 "cells": [
  {
   "cell_type": "code",
   "execution_count": null,
   "metadata": {},
   "outputs": [],
   "source": [
    "## This script identifies the prototype using K-Means over deep features"
   ]
  },
  {
   "cell_type": "code",
   "execution_count": null,
   "metadata": {},
   "outputs": [],
   "source": [
    "# import packages\n",
    "import os, cv2\n",
    "import numpy as np\n",
    "import pandas as pd\n",
    "import matplotlib.pyplot as plt\n",
    "from datetime import datetime\n",
    "## packages for clustering\n",
    "from sklearn.preprocessing import StandardScaler\n",
    "from sklearn.cluster import *"
   ]
  },
  {
   "cell_type": "code",
   "execution_count": null,
   "metadata": {},
   "outputs": [],
   "source": [
    "# load data and check dimensions\n",
    "## load shadow-free images\n",
    "img = cv2.imread('../output/images/shadow_free.jpg')\n",
    "img = cv2.cvtColor(img, cv2.COLOR_BGR2RGB) ## convert the color channel to RGB\n",
    "## load LFDP ground-based labels\n",
    "df = pd.read_csv('../data/labels/LFDP_labels.csv', index_col=0)\n",
    "## load CNN features\n",
    "feat_cnn = pd.read_csv('../output/features/feat_cnn.csv', header=None).to_numpy()"
   ]
  },
  {
   "cell_type": "code",
   "execution_count": null,
   "metadata": {},
   "outputs": [],
   "source": [
    "# filter the ground labels\n",
    "THRESH_DIAM = 20 ## diameter threshold\n",
    "df = df[df.ALIVE == 'A'] ## remove dead trees\n",
    "df = df[df.DIAM > THRESH_DIAM] ## remove small trees\n",
    "df = df[df.pix_1 < 9600] \n",
    "df = df[df.pix_2 < 15000] ## remove boundary points\n",
    "df.index = range(df.shape[0])"
   ]
  },
  {
   "cell_type": "code",
   "execution_count": null,
   "metadata": {},
   "outputs": [],
   "source": [
    "# KMeans clustering over the features\n",
    "n_c = 25\n",
    "time_start = datetime.now()\n",
    "print('Start:', time_start)\n",
    "## transform data\n",
    "X = StandardScaler().fit_transform(feat_cnn)\n",
    "## run minibatch kmeans over training set\n",
    "kmeans = KMeans(n_clusters=n_c, random_state=2020, max_iter=2000, tol=0)\n",
    "kmeans = kmeans.fit(X)\n",
    "## save labels and centers as .csv\n",
    "labels = kmeans.predict(X)\n",
    "labels_pd = pd.DataFrame(labels)\n",
    "lab_path = '../output/KMeans/labels_' + str(n_c) + '.csv'\n",
    "labels_pd.to_csv(lab_path)\n",
    "centers = kmeans.cluster_centers_\n",
    "centers_pd = pd.DataFrame(centers)\n",
    "cent_path = '../output/KMeans/centers_' + str(n_c) + '.csv'\n",
    "centers_pd.to_csv(cent_path)\n",
    "print('Time:', datetime.now() - time_start)    "
   ]
  },
  {
   "cell_type": "code",
   "execution_count": null,
   "metadata": {},
   "outputs": [],
   "source": [
    "n_c = 25\n",
    "labels = pd.read_csv('../output/KMeans/labels_' + str(n_c) + '.csv', index_col=0).to_numpy().flatten()"
   ]
  },
  {
   "cell_type": "code",
   "execution_count": null,
   "metadata": {},
   "outputs": [],
   "source": [
    "# calculate species relevance for each cluster\n",
    "## species relevance = number of labels / number of image patches\n",
    "rs = int(np.sqrt(img.shape[0] * img.shape[1] / feat_cnn.shape[0]))\n",
    "nrow = int(img.shape[0] / rs)\n",
    "ncol = int(img.shape[1] / rs)\n",
    "SPECIES = 'PREMON'\n",
    "sp_dict = {'PREMON': ['PREMON', 'ROYBOR'], 'CECSCH': ['CECSCH'], 'MANBID': ['MANBID']}\n",
    "sp_list = sp_dict[SPECIES]\n",
    "num_sp = np.zeros(n_c)\n",
    "size_cluster = np.array([sum(labels == i) for i in range(n_c)])\n",
    "## loop over the label data\n",
    "for i in range(df.shape[0]):\n",
    "    loc_1 = df['pix_2'][i] // rs\n",
    "    loc_2 = df['pix_1'][i] // rs\n",
    "    location = loc_1 * ncol + loc_2\n",
    "    if df.SPECIES[i] in sp_list:\n",
    "        num_sp[labels[location]] += 1\n",
    "## calculate relevance\n",
    "ratio_sp = num_sp / size_cluster\n",
    "index_sort = np.array(sorted(range(len(ratio_sp)), key=lambda k: ratio_sp[k]), dtype=str)\n",
    "ratio_sp_sorted = np.sort(ratio_sp)\n",
    "plt.figure(figsize=(8, 3))\n",
    "plt.bar(index_sort, ratio_sp_sorted)\n",
    "plt.xlabel('Cluster ID', fontsize=12)\n",
    "plt.ylabel('Target Relevance', fontsize=12)\n",
    "plt.savefig('../output/figs/relevance_' + SPECIES + '.png', bbox_inches='tight', dpi=300) \n",
    "plt.show()\n",
    "plt.figure(figsize=(8, 3))\n",
    "plt.bar(index_sort, size_cluster[index_sort.astype(int)], color='green')\n",
    "plt.xlabel('Cluster ID', fontsize=12)\n",
    "plt.ylabel('Number of Patches', fontsize=12)\n",
    "plt.show()\n",
    "print('In total, species relevance is', num_sp.sum()/size_cluster.sum())\n",
    "## save the palm relevance as relavance.csv\n",
    "pd.DataFrame(ratio_sp).to_csv('../output/relevance/relevance_' + SPECIES + '_' + str(THRESH_DIAM) + '_' + str(n_c) + '.csv')"
   ]
  },
  {
   "cell_type": "code",
   "execution_count": null,
   "metadata": {},
   "outputs": [],
   "source": [
    "# visualize cluster results\n",
    "rs = 100\n",
    "## choose clusters\n",
    "cluster_p = 8\n",
    "cluster_n = 18\n",
    "num_col = 96\n",
    "## compare images visually\n",
    "img_p = np.zeros([5*rs, 5*rs, 3], dtype=np.uint8)\n",
    "img_n = np.zeros([5*rs, 5*rs, 3], dtype=np.uint8)\n",
    "## insert image patches\n",
    "for i in range(25):\n",
    "    ## get locations\n",
    "    loc_p = np.where(labels == cluster_p)[0][i]\n",
    "    loc_n = np.where(labels == cluster_n)[0][i]\n",
    "    ## insert image patch for palm\n",
    "    rr = loc_p // num_col\n",
    "    cc = loc_p - rr * num_col\n",
    "    r_1 = rr * rs\n",
    "    r_2 = r_1 + rs\n",
    "    c_1 = cc * rs\n",
    "    c_2 = c_1 + rs\n",
    "    rr = i // 5\n",
    "    cc = i - rr * 5\n",
    "    img_patch = img[r_1:r_2, c_1:c_2].copy()\n",
    "    img_patch[:2] = 255\n",
    "    img_patch[-2:] = 255\n",
    "    img_patch[:,:2] = 255\n",
    "    img_patch[:,-2:] = 255\n",
    "    img_p[(rr*rs):(rr*rs+rs), (cc*rs):(cc*rs+rs)] = img_patch\n",
    "    ## insert image patch for non-palm\n",
    "    rr = loc_n // num_col\n",
    "    cc = loc_n - rr * num_col\n",
    "    r_1 = rr * rs\n",
    "    r_2 = r_1 + rs\n",
    "    c_1 = cc * rs\n",
    "    c_2 = c_1 + rs\n",
    "    rr = i // 5\n",
    "    cc = i - rr * 5\n",
    "    img_patch = img[r_1:r_2, c_1:c_2].copy()\n",
    "    img_patch[:2] = 255\n",
    "    img_patch[-2:] = 255\n",
    "    img_patch[:,:2] = 255\n",
    "    img_patch[:,-2:] = 255\n",
    "    img_n[(rr*rs):(rr*rs+rs), (cc*rs):(cc*rs+rs)] = img_patch\n",
    "plt.figure(figsize=(12,12)) \n",
    "plt.subplot(121),plt.imshow(img_p)\n",
    "plt.xticks([]), plt.yticks([])\n",
    "plt.subplot(122),plt.imshow(img_n)\n",
    "plt.xticks([]), plt.yticks([])\n",
    "plt.show()"
   ]
  },
  {
   "cell_type": "code",
   "execution_count": null,
   "metadata": {},
   "outputs": [],
   "source": []
  },
  {
   "cell_type": "code",
   "execution_count": null,
   "metadata": {},
   "outputs": [],
   "source": []
  },
  {
   "cell_type": "code",
   "execution_count": null,
   "metadata": {},
   "outputs": [],
   "source": []
  },
  {
   "cell_type": "code",
   "execution_count": null,
   "metadata": {},
   "outputs": [],
   "source": []
  },
  {
   "cell_type": "code",
   "execution_count": null,
   "metadata": {},
   "outputs": [],
   "source": []
  },
  {
   "cell_type": "code",
   "execution_count": null,
   "metadata": {},
   "outputs": [],
   "source": []
  },
  {
   "cell_type": "code",
   "execution_count": null,
   "metadata": {},
   "outputs": [],
   "source": []
  },
  {
   "cell_type": "code",
   "execution_count": null,
   "metadata": {},
   "outputs": [],
   "source": []
  },
  {
   "cell_type": "code",
   "execution_count": null,
   "metadata": {},
   "outputs": [],
   "source": []
  }
 ],
 "metadata": {
  "kernelspec": {
   "display_name": "Python 3",
   "language": "python",
   "name": "python3"
  },
  "language_info": {
   "codemirror_mode": {
    "name": "ipython",
    "version": 3
   },
   "file_extension": ".py",
   "mimetype": "text/x-python",
   "name": "python",
   "nbconvert_exporter": "python",
   "pygments_lexer": "ipython3",
   "version": "3.7.6"
  }
 },
 "nbformat": 4,
 "nbformat_minor": 4
}
